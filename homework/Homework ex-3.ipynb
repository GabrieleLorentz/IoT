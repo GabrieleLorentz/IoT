{
  "cells": [
    {
      "cell_type": "markdown",
      "metadata": {
        "id": "qoSmsgnra10Z"
      },
      "source": [
        "Exercise 3.1"
      ]
    },
    {
      "cell_type": "code",
      "execution_count": 1,
      "metadata": {
        "id": "-eopcnXwa0SE"
      },
      "outputs": [],
      "source": [
        "import itertools\n",
        "from collections import Counter\n",
        "\n",
        "# Known Ln values\n",
        "\n",
        "Ln = {0: 0, 1: 1, 2: 4, 3: 51/8}\n",
        "\n",
        "def compute_Pb(N, r1):\n",
        "  counts = Counter()\n",
        "  for a in itertools.product(range(r1), repeat=N):\n",
        "\n",
        "      ctr = Counter(a)\n",
        "      resolved = sum(1 for v in ctr.values() if v == 1)\n",
        "      b = N - resolved\n",
        "      counts[b] += 1\n",
        "  total = r1**N\n",
        "  P = {b: cnt/total for b, cnt in counts.items()}\n",
        "  return P"
      ]
    },
    {
      "cell_type": "markdown",
      "metadata": {
        "id": "x2aQHD75caOh"
      },
      "source": [
        "Function to calculate L4 when r1 = 4, is possible to do this since, from the formula, we have the relation L4 = P0 * L0 + P2 * L2 + P3 * L3 + P4 * L4"
      ]
    },
    {
      "cell_type": "code",
      "execution_count": 2,
      "metadata": {
        "id": "B7QeOfjucZsh"
      },
      "outputs": [],
      "source": [
        "N = 4\n",
        "P4 = compute_Pb(N, 4)\n",
        "\n",
        "A = sum(P4[b]*Ln[b] for b in P4 if b < 4)\n",
        "P4_4 = P4.get(4, 0)\n",
        "L4 = (4 + A) / (1 - P4_4)\n",
        "\n",
        "results = {}\n",
        "Ln[4] = L4"
      ]
    },
    {
      "cell_type": "markdown",
      "metadata": {
        "id": "nTN_LexvdP0g"
      },
      "source": [
        "Calculating η as N/L for each possible value of r1"
      ]
    },
    {
      "cell_type": "code",
      "execution_count": 3,
      "metadata": {
        "colab": {
          "base_uri": "https://localhost:8080/"
        },
        "id": "g7_c2jGrderk",
        "outputId": "e3821638-8d7f-4781-e40f-afaa9df5cc81"
      },
      "outputs": [
        {
          "name": "stdout",
          "output_type": "stream",
          "text": [
            "             η\n",
            "r1            \n",
            "1  0.407163054\n",
            "2  0.416686762\n",
            "3  0.446708284\n",
            "4  0.453305352\n",
            "5  0.442590301\n",
            "6  0.422558938\n"
          ]
        }
      ],
      "source": [
        "for r1 in range(1,7):\n",
        "    P = compute_Pb(N, r1)\n",
        "    L = r1 + sum(P[b]*Ln[b] for b in P)\n",
        "    eta = N / L\n",
        "    results[r1] = (round(eta,9))\n",
        "\n",
        "import pandas as pd\n",
        "df = pd.DataFrame.from_dict(results, orient='index', columns=['η'])\n",
        "df.index.name = 'r1'\n",
        "pd.set_option('display.float_format', '{:.9f}'.format)\n",
        "print(df)\n",
        "\n"
      ]
    },
    {
      "cell_type": "code",
      "execution_count": 4,
      "metadata": {
        "colab": {
          "base_uri": "https://localhost:8080/",
          "height": 564
        },
        "id": "Ljt4UQNdllIP",
        "outputId": "b387cc95-8c84-4c90-bfc5-d1c645ab5c83"
      },
      "outputs": [
        {
          "data": {
            "image/png": "[encoded data removed]",
            "text/plain": [
              "<Figure size 800x600 with 1 Axes>"
            ]
          },
          "metadata": {},
          "output_type": "display_data"
        }
      ],
      "source": [
        "import matplotlib.pyplot as plt\n",
        "import numpy as np\n",
        "\n",
        "\n",
        "r1_values = df.index.values\n",
        "eta_values = df['η'].values\n",
        "\n",
        "\n",
        "plt.figure(figsize=(8, 6))\n",
        "plt.plot(r1_values, eta_values, marker='o', linestyle='-')\n",
        "\n",
        "\n",
        "plt.xlabel('r1')\n",
        "plt.ylabel('η')\n",
        "\n",
        "\n",
        "plt.title('Efficiency over values of initial frame size')\n",
        "\n",
        "\n",
        "plt.ylim(0, 1)\n",
        "plt.yticks(np.arange(0, 1.1, 0.2))\n",
        "\n",
        "plt.grid(True)\n",
        "\n",
        "for i, txt in enumerate(eta_values):\n",
        "    plt.text(r1_values[i], eta_values[i], f'{txt:.3f}', ha='right', va='bottom')\n",
        "\n",
        "\n",
        "plt.show()"
      ]
    },
    {
      "cell_type": "markdown",
      "metadata": {},
      "source": [
        "We have the maximum value of η at r1 = 4, which is the number of tags to read N. This is a good trade-off between the number of tags and the efficiency of the reading process."
      ]
    }
  ],
  "metadata": {
    "colab": {
      "provenance": []
    },
    "kernelspec": {
      "display_name": "Python 3",
      "name": "python3"
    },
    "language_info": {
      "name": "python"
    }
  },
  "nbformat": 4,
  "nbformat_minor": 0
}
